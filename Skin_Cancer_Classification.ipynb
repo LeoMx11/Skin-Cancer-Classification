{
  "nbformat": 4,
  "nbformat_minor": 0,
  "metadata": {
    "colab": {
      "provenance": [],
      "toc_visible": true,
      "authorship_tag": "ABX9TyMgYWakxnPDOcnKfWvXhsIY",
      "include_colab_link": true
    },
    "kernelspec": {
      "name": "python3",
      "display_name": "Python 3"
    },
    "language_info": {
      "name": "python"
    }
  },
  "cells": [
    {
      "cell_type": "markdown",
      "metadata": {
        "id": "view-in-github",
        "colab_type": "text"
      },
      "source": [
        "<a href=\"https://colab.research.google.com/github/LeoMx11/Skin-Cancer-Classification/blob/main/Skin_Cancer_Classification.ipynb\" target=\"_parent\"><img src=\"https://colab.research.google.com/assets/colab-badge.svg\" alt=\"Open In Colab\"/></a>"
      ]
    },
    {
      "cell_type": "markdown",
      "source": [
        "# Skin Cancer Classification Project\n",
        "\n",
        "Using kaggle dataset with malignant/benign skin cancers and sorting into each."
      ],
      "metadata": {
        "id": "0VpiMUSaRDNI"
      }
    },
    {
      "cell_type": "markdown",
      "source": [
        "## Model 1: Full Batch Gradient Descent"
      ],
      "metadata": {
        "id": "dCGanyAE4Crg"
      }
    },
    {
      "cell_type": "code",
      "execution_count": null,
      "metadata": {
        "colab": {
          "base_uri": "https://localhost:8080/"
        },
        "id": "wxK1ozSL2jtT",
        "outputId": "9d0b3920-1753-4b1d-de92-28a7dbe54071"
      },
      "outputs": [
        {
          "output_type": "stream",
          "name": "stdout",
          "text": [
            "Warning: Looks like you're using an outdated `kagglehub` version (installed: 0.3.6), please consider upgrading to the latest version (0.3.7).\n",
            "Path to dataset files: /root/.cache/kagglehub/datasets/fanconic/skin-cancer-malignant-vs-benign/versions/4\n"
          ]
        }
      ],
      "source": [
        "import kagglehub\n",
        "\n",
        "# Download latest version\n",
        "path = kagglehub.dataset_download(\"fanconic/skin-cancer-malignant-vs-benign\")\n",
        "\n",
        "print(\"Path to dataset files:\", path)"
      ]
    },
    {
      "cell_type": "code",
      "source": [
        "import os\n",
        "from PIL import Image\n",
        "import torch\n",
        "import numpy as np\n",
        "from torch import nn"
      ],
      "metadata": {
        "id": "J1kPV-R37rw8"
      },
      "execution_count": null,
      "outputs": []
    },
    {
      "cell_type": "code",
      "source": [
        "print(os.listdir(path + '/data/train/benign'))"
      ],
      "metadata": {
        "colab": {
          "base_uri": "https://localhost:8080/"
        },
        "id": "oiHNqf7l8oeA",
        "outputId": "fd8be516-efb8-46cc-fa83-9f48d06cd58a"
      },
      "execution_count": null,
      "outputs": [
        {
          "output_type": "stream",
          "name": "stdout",
          "text": [
            "['921.jpg', '136.jpg', '1234.jpg', '39.jpg', '785.jpg', '1186.jpg', '1654.jpg', '955.jpg', '271.jpg', '1749.jpg', '1138.jpg', '1512.jpg', '1081.jpg', '426.jpg', '130.jpg', '1543.jpg', '1002.jpg', '1588.jpg', '705.jpg', '1752.jpg', '1106.jpg', '794.jpg', '1185.jpg', '390.jpg', '381.jpg', '1255.jpg', '1609.jpg', '1287.jpg', '1775.jpg', '219.jpg', '242.jpg', '262.jpg', '43.jpg', '133.jpg', '120.jpg', '613.jpg', '771.jpg', '1772.jpg', '1616.jpg', '22.jpg', '666.jpg', '1141.jpg', '223.jpg', '1699.jpg', '1453.jpg', '1626.jpg', '708.jpg', '1452.jpg', '1308.jpg', '1525.jpg', '77.jpg', '382.jpg', '1695.jpg', '521.jpg', '1129.jpg', '481.jpg', '531.jpg', '1086.jpg', '1394.jpg', '711.jpg', '745.jpg', '490.jpg', '93.jpg', '1302.jpg', '1246.jpg', '1556.jpg', '137.jpg', '702.jpg', '1425.jpg', '1060.jpg', '1572.jpg', '1210.jpg', '1644.jpg', '1732.jpg', '1477.jpg', '1421.jpg', '959.jpg', '755.jpg', '1098.jpg', '1407.jpg', '296.jpg', '1058.jpg', '1124.jpg', '1368.jpg', '1417.jpg', '1211.jpg', '1783.jpg', '821.jpg', '179.jpg', '1364.jpg', '1323.jpg', '377.jpg', '541.jpg', '123.jpg', '353.jpg', '965.jpg', '655.jpg', '786.jpg', '1618.jpg', '1089.jpg', '1792.jpg', '25.jpg', '248.jpg', '298.jpg', '620.jpg', '851.jpg', '1698.jpg', '537.jpg', '1599.jpg', '1551.jpg', '885.jpg', '438.jpg', '857.jpg', '155.jpg', '1561.jpg', '1292.jpg', '201.jpg', '543.jpg', '131.jpg', '1233.jpg', '546.jpg', '697.jpg', '1787.jpg', '456.jpg', '1665.jpg', '1438.jpg', '628.jpg', '49.jpg', '1414.jpg', '1463.jpg', '103.jpg', '1392.jpg', '1608.jpg', '416.jpg', '1542.jpg', '1755.jpg', '924.jpg', '1270.jpg', '698.jpg', '1500.jpg', '1517.jpg', '402.jpg', '583.jpg', '1564.jpg', '1240.jpg', '175.jpg', '1404.jpg', '1156.jpg', '519.jpg', '1164.jpg', '1451.jpg', '350.jpg', '1335.jpg', '413.jpg', '1035.jpg', '1673.jpg', '168.jpg', '282.jpg', '1395.jpg', '1793.jpg', '141.jpg', '1790.jpg', '929.jpg', '189.jpg', '812.jpg', '1580.jpg', '1250.jpg', '1760.jpg', '1552.jpg', '1533.jpg', '1361.jpg', '731.jpg', '1589.jpg', '1284.jpg', '1741.jpg', '1658.jpg', '553.jpg', '1690.jpg', '765.jpg', '41.jpg', '524.jpg', '1428.jpg', '605.jpg', '1179.jpg', '920.jpg', '764.jpg', '1615.jpg', '466.jpg', '576.jpg', '1547.jpg', '1423.jpg', '968.jpg', '184.jpg', '1434.jpg', '1531.jpg', '1072.jpg', '1358.jpg', '940.jpg', '395.jpg', '852.jpg', '181.jpg', '177.jpg', '1532.jpg', '960.jpg', '305.jpg', '68.jpg', '782.jpg', '1043.jpg', '1571.jpg', '1382.jpg', '837.jpg', '125.jpg', '803.jpg', '398.jpg', '1356.jpg', '1780.jpg', '32.jpg', '1259.jpg', '102.jpg', '1096.jpg', '1020.jpg', '159.jpg', '461.jpg', '138.jpg', '158.jpg', '468.jpg', '458.jpg', '1196.jpg', '165.jpg', '518.jpg', '589.jpg', '1116.jpg', '865.jpg', '1715.jpg', '439.jpg', '1181.jpg', '1590.jpg', '727.jpg', '496.jpg', '1515.jpg', '688.jpg', '1450.jpg', '295.jpg', '1281.jpg', '607.jpg', '483.jpg', '1558.jpg', '372.jpg', '1432.jpg', '1316.jpg', '1605.jpg', '875.jpg', '1007.jpg', '592.jpg', '704.jpg', '540.jpg', '752.jpg', '207.jpg', '1649.jpg', '976.jpg', '937.jpg', '1435.jpg', '947.jpg', '611.jpg', '1111.jpg', '1388.jpg', '435.jpg', '594.jpg', '836.jpg', '1694.jpg', '1759.jpg', '264.jpg', '1667.jpg', '469.jpg', '1236.jpg', '1733.jpg', '4.jpg', '73.jpg', '1168.jpg', '1147.jpg', '277.jpg', '1796.jpg', '1739.jpg', '1330.jpg', '1503.jpg', '992.jpg', '1669.jpg', '1465.jpg', '709.jpg', '17.jpg', '1219.jpg', '110.jpg', '1199.jpg', '118.jpg', '591.jpg', '1271.jpg', '329.jpg', '665.jpg', '1192.jpg', '1217.jpg', '600.jpg', '1641.jpg', '365.jpg', '1175.jpg', '34.jpg', '64.jpg', '1779.jpg', '1275.jpg', '132.jpg', '1027.jpg', '539.jpg', '417.jpg', '79.jpg', '364.jpg', '1506.jpg', '1340.jpg', '1462.jpg', '470.jpg', '1264.jpg', '1614.jpg', '882.jpg', '728.jpg', '1131.jpg', '926.jpg', '870.jpg', '220.jpg', '687.jpg', '1455.jpg', '81.jpg', '1789.jpg', '1601.jpg', '494.jpg', '373.jpg', '478.jpg', '371.jpg', '387.jpg', '121.jpg', '443.jpg', '306.jpg', '1136.jpg', '985.jpg', '86.jpg', '1349.jpg', '1510.jpg', '1082.jpg', '116.jpg', '152.jpg', '795.jpg', '1317.jpg', '1194.jpg', '661.jpg', '403.jpg', '431.jpg', '1735.jpg', '1660.jpg', '1102.jpg', '983.jpg', '430.jpg', '1068.jpg', '91.jpg', '1391.jpg', '1678.jpg', '513.jpg', '107.jpg', '507.jpg', '1028.jpg', '178.jpg', '76.jpg', '113.jpg', '557.jpg', '554.jpg', '380.jpg', '522.jpg', '1433.jpg', '1325.jpg', '1422.jpg', '748.jpg', '1544.jpg', '1333.jpg', '1327.jpg', '1497.jpg', '787.jpg', '1688.jpg', '533.jpg', '1285.jpg', '1385.jpg', '923.jpg', '686.jpg', '213.jpg', '1345.jpg', '1355.jpg', '1182.jpg', '1603.jpg', '1639.jpg', '1490.jpg', '1700.jpg', '1778.jpg', '363.jpg', '310.jpg', '214.jpg', '100.jpg', '945.jpg', '1176.jpg', '798.jpg', '106.jpg', '1301.jpg', '783.jpg', '286.jpg', '1568.jpg', '1075.jpg', '1557.jpg', '715.jpg', '1045.jpg', '172.jpg', '1008.jpg', '1360.jpg', '781.jpg', '1324.jpg', '1363.jpg', '1535.jpg', '508.jpg', '275.jpg', '339.jpg', '549.jpg', '577.jpg', '1621.jpg', '1720.jpg', '1480.jpg', '1241.jpg', '791.jpg', '1548.jpg', '1370.jpg', '180.jpg', '822.jpg', '675.jpg', '793.jpg', '440.jpg', '347.jpg', '1730.jpg', '696.jpg', '1464.jpg', '244.jpg', '1289.jpg', '1184.jpg', '1094.jpg', '1137.jpg', '1539.jpg', '465.jpg', '1702.jpg', '994.jpg', '276.jpg', '1762.jpg', '384.jpg', '198.jpg', '1482.jpg', '1268.jpg', '40.jpg', '1606.jpg', '1108.jpg', '1093.jpg', '757.jpg', '51.jpg', '1661.jpg', '241.jpg', '1666.jpg', '302.jpg', '230.jpg', '1629.jpg', '523.jpg', '1351.jpg', '1406.jpg', '913.jpg', '867.jpg', '695.jpg', '1677.jpg', '789.jpg', '1569.jpg', '1038.jpg', '1761.jpg', '1190.jpg', '656.jpg', '1161.jpg', '1193.jpg', '890.jpg', '405.jpg', '948.jpg', '360.jpg', '1109.jpg', '1239.jpg', '1784.jpg', '1397.jpg', '342.jpg', '1470.jpg', '693.jpg', '1121.jpg', '1010.jpg', '406.jpg', '352.jpg', '1416.jpg', '1154.jpg', '582.jpg', '1418.jpg', '1683.jpg', '726.jpg', '145.jpg', '1553.jpg', '602.jpg', '341.jpg', '193.jpg', '212.jpg', '126.jpg', '737.jpg', '477.jpg', '1296.jpg', '736.jpg', '1057.jpg', '835.jpg', '512.jpg', '1575.jpg', '680.jpg', '1046.jpg', '1767.jpg', '1526.jpg', '280.jpg', '1460.jpg', '221.jpg', '1238.jpg', '1053.jpg', '1424.jpg', '1581.jpg', '337.jpg', '951.jpg', '1684.jpg', '1187.jpg', '412.jpg', '266.jpg', '1120.jpg', '621.jpg', '879.jpg', '183.jpg', '639.jpg', '984.jpg', '1041.jpg', '236.jpg', '476.jpg', '864.jpg', '1100.jpg', '1513.jpg', '234.jpg', '769.jpg', '139.jpg', '142.jpg', '1598.jpg', '1380.jpg', '338.jpg', '713.jpg', '7.jpg', '987.jpg', '1150.jpg', '58.jpg', '662.jpg', '252.jpg', '1149.jpg', '1097.jpg', '1198.jpg', '753.jpg', '977.jpg', '952.jpg', '838.jpg', '27.jpg', '877.jpg', '1653.jpg', '1782.jpg', '1692.jpg', '810.jpg', '1204.jpg', '117.jpg', '595.jpg', '1207.jpg', '1713.jpg', '953.jpg', '1430.jpg', '1771.jpg', '1664.jpg', '730.jpg', '1769.jpg', '505.jpg', '1686.jpg', '202.jpg', '358.jpg', '671.jpg', '1353.jpg', '1237.jpg', '1202.jpg', '1384.jpg', '1283.jpg', '934.jpg', '1369.jpg', '1037.jpg', '1457.jpg', '501.jpg', '1225.jpg', '590.jpg', '1635.jpg', '1518.jpg', '210.jpg', '1679.jpg', '1439.jpg', '447.jpg', '1059.jpg', '1587.jpg', '1298.jpg', '59.jpg', '143.jpg', '846.jpg', '349.jpg', '767.jpg', '614.jpg', '1636.jpg', '1101.jpg', '645.jpg', '249.jpg', '392.jpg', '842.jpg', '814.jpg', '1303.jpg', '1777.jpg', '716.jpg', '956.jpg', '1128.jpg', '899.jpg', '464.jpg', '499.jpg', '1562.jpg', '357.jpg', '648.jpg', '1662.jpg', '710.jpg', '1291.jpg', '485.jpg', '82.jpg', '1724.jpg', '515.jpg', '240.jpg', '597.jpg', '1337.jpg', '1429.jpg', '1507.jpg', '1221.jpg', '104.jpg', '622.jpg', '1078.jpg', '1596.jpg', '601.jpg', '1504.jpg', '204.jpg', '811.jpg', '247.jpg', '1064.jpg', '432.jpg', '1245.jpg', '996.jpg', '957.jpg', '784.jpg', '619.jpg', '1799.jpg', '974.jpg', '233.jpg', '1260.jpg', '70.jpg', '610.jpg', '978.jpg', '889.jpg', '480.jpg', '679.jpg', '1691.jpg', '351.jpg', '129.jpg', '19.jpg', '1228.jpg', '149.jpg', '1763.jpg', '858.jpg', '208.jpg', '157.jpg', '816.jpg', '72.jpg', '538.jpg', '1740.jpg', '85.jpg', '1031.jpg', '38.jpg', '206.jpg', '918.jpg', '1104.jpg', '285.jpg', '222.jpg', '429.jpg', '1449.jpg', '441.jpg', '643.jpg', '732.jpg', '1405.jpg', '424.jpg', '232.jpg', '265.jpg', '1167.jpg', '599.jpg', '1294.jpg', '162.jpg', '1085.jpg', '1398.jpg', '504.jpg', '1645.jpg', '1585.jpg', '260.jpg', '1671.jpg', '1674.jpg', '872.jpg', '1206.jpg', '318.jpg', '1744.jpg', '1188.jpg', '845.jpg', '932.jpg', '20.jpg', '667.jpg', '988.jpg', '1012.jpg', '325.jpg', '1708.jpg', '640.jpg', '1016.jpg', '973.jpg', '550.jpg', '1469.jpg', '1171.jpg', '1493.jpg', '1300.jpg', '772.jpg', '1218.jpg', '989.jpg', '637.jpg', '78.jpg', '860.jpg', '1474.jpg', '1389.jpg', '1113.jpg', '775.jpg', '1314.jpg', '471.jpg', '1549.jpg', '1227.jpg', '47.jpg', '1307.jpg', '692.jpg', '472.jpg', '257.jpg', '1090.jpg', '1386.jpg', '1040.jpg', '703.jpg', '891.jpg', '1643.jpg', '1726.jpg', '66.jpg', '1795.jpg', '1751.jpg', '502.jpg', '833.jpg', '749.jpg', '979.jpg', '164.jpg', '1011.jpg', '915.jpg', '756.jpg', '1770.jpg', '48.jpg', '1484.jpg', '1157.jpg', '1566.jpg', '191.jpg', '173.jpg', '1015.jpg', '733.jpg', '618.jpg', '1554.jpg', '701.jpg', '409.jpg', '1379.jpg', '570.jpg', '463.jpg', '333.jpg', '1620.jpg', '196.jpg', '411.jpg', '641.jpg', '514.jpg', '1001.jpg', '1624.jpg', '1496.jpg', '766.jpg', '950.jpg', '1640.jpg', '292.jpg', '542.jpg', '1727.jpg', '1410.jpg', '1612.jpg', '526.jpg', '425.jpg', '1794.jpg', '969.jpg', '1742.jpg', '239.jpg', '446.jpg', '776.jpg', '1536.jpg', '1565.jpg', '901.jpg', '866.jpg', '788.jpg', '1709.jpg', '1467.jpg', '547.jpg', '1716.jpg', '279.jpg', '327.jpg', '1680.jpg', '320.jpg', '343.jpg', '1254.jpg', '46.jpg', '633.jpg', '1331.jpg', '1685.jpg', '231.jpg', '309.jpg', '491.jpg', '1140.jpg', '415.jpg', '255.jpg', '450.jpg', '1663.jpg', '92.jpg', '326.jpg', '797.jpg', '1582.jpg', '568.jpg', '30.jpg', '1593.jpg', '1491.jpg', '171.jpg', '1293.jpg', '938.jpg', '714.jpg', '627.jpg', '422.jpg', '1791.jpg', '657.jpg', '3.jpg', '324.jpg', '270.jpg', '650.jpg', '23.jpg', '1216.jpg', '1257.jpg', '1318.jpg', '1024.jpg', '1256.jpg', '564.jpg', '1341.jpg', '111.jpg', '1165.jpg', '1076.jpg', '474.jpg', '1039.jpg', '1162.jpg', '571.jpg', '1309.jpg', '1447.jpg', '694.jpg', '452.jpg', '1371.jpg', '1712.jpg', '1122.jpg', '1436.jpg', '1295.jpg', '638.jpg', '747.jpg', '510.jpg', '14.jpg', '530.jpg', '1030.jpg', '1148.jpg', '156.jpg', '699.jpg', '598.jpg', '1675.jpg', '1718.jpg', '967.jpg', '556.jpg', '847.jpg', '288.jpg', '729.jpg', '741.jpg', '1693.jpg', '375.jpg', '500.jpg', '1054.jpg', '739.jpg', '188.jpg', '497.jpg', '397.jpg', '1511.jpg', '75.jpg', '376.jpg', '632.jpg', '1508.jpg', '649.jpg', '1014.jpg', '1670.jpg', '486.jpg', '1459.jpg', '1476.jpg', '1402.jpg', '654.jpg', '1722.jpg', '1251.jpg', '1142.jpg', '672.jpg', '1026.jpg', '1347.jpg', '1638.jpg', '1774.jpg', '565.jpg', '1707.jpg', '197.jpg', '1652.jpg', '1280.jpg', '1049.jpg', '1703.jpg', '370.jpg', '56.jpg', '1725.jpg', '1328.jpg', '1274.jpg', '966.jpg', '1427.jpg', '1105.jpg', '1144.jpg', '1746.jpg', '990.jpg', '410.jpg', '1262.jpg', '1437.jpg', '1224.jpg', '1743.jpg', '761.jpg', '190.jpg', '1668.jpg', '1174.jpg', '345.jpg', '52.jpg', '1000.jpg', '629.jpg', '1489.jpg', '1067.jpg', '199.jpg', '1050.jpg', '827.jpg', '1009.jpg', '525.jpg', '886.jpg', '401.jpg', '423.jpg', '1501.jpg', '467.jpg', '1212.jpg', '843.jpg', '278.jpg', '182.jpg', '673.jpg', '746.jpg', '314.jpg', '722.jpg', '980.jpg', '1619.jpg', '1091.jpg', '1133.jpg', '195.jpg', '834.jpg', '815.jpg', '421.jpg', '928.jpg', '1048.jpg', '871.jpg', '848.jpg', '844.jpg', '299.jpg', '1056.jpg', '94.jpg', '1329.jpg', '80.jpg', '1229.jpg', '1036.jpg', '67.jpg', '1446.jpg', '1220.jpg', '473.jpg', '904.jpg', '809.jpg', '933.jpg', '316.jpg', '855.jpg', '1005.jpg', '386.jpg', '719.jpg', '971.jpg', '674.jpg', '1623.jpg', '516.jpg', '1235.jpg', '1486.jpg', '908.jpg', '12.jpg', '856.jpg', '1178.jpg', '99.jpg', '1195.jpg', '1622.jpg', '150.jpg', '1304.jpg', '33.jpg', '368.jpg', '1083.jpg', '584.jpg', '1066.jpg', '800.jpg', '1431.jpg', '954.jpg', '498.jpg', '238.jpg', '374.jpg', '780.jpg', '1248.jpg', '1478.jpg', '1717.jpg', '1505.jpg', '808.jpg', '1132.jpg', '1577.jpg', '804.jpg', '166.jpg', '1630.jpg', '227.jpg', '1419.jpg', '850.jpg', '949.jpg', '682.jpg', '151.jpg', '1594.jpg', '801.jpg', '1676.jpg', '1597.jpg', '1205.jpg', '1781.jpg', '1252.jpg', '243.jpg', '21.jpg', '69.jpg', '1583.jpg', '1189.jpg', '1258.jpg', '563.jpg', '1728.jpg', '1600.jpg', '482.jpg', '1528.jpg', '1734.jpg', '718.jpg', '1563.jpg', '400.jpg', '646.jpg', '1052.jpg', '451.jpg', '743.jpg', '1348.jpg', '1158.jpg', '1004.jpg', '1223.jpg', '927.jpg', '340.jpg', '740.jpg', '13.jpg', '29.jpg', '683.jpg', '1527.jpg', '217.jpg', '1079.jpg', '65.jpg', '1736.jpg', '293.jpg', '818.jpg', '1153.jpg', '691.jpg', '200.jpg', '961.jpg', '1336.jpg', '1339.jpg', '1065.jpg', '1344.jpg', '863.jpg', '493.jpg', '1282.jpg', '760.jpg', '1305.jpg', '807.jpg', '283.jpg', '383.jpg', '101.jpg', '24.jpg', '89.jpg', '914.jpg', '1383.jpg', '258.jpg', '225.jpg', '970.jpg', '1529.jpg', '1546.jpg', '1494.jpg', '873.jpg', '738.jpg', '1540.jpg', '1390.jpg', '229.jpg', '1729.jpg', '917.jpg', '1249.jpg', '706.jpg', '799.jpg', '1659.jpg', '396.jpg', '1230.jpg', '1475.jpg', '1534.jpg', '1738.jpg', '884.jpg', '911.jpg', '1286.jpg', '1567.jpg', '587.jpg', '355.jpg', '754.jpg', '307.jpg', '931.jpg', '167.jpg', '630.jpg', '321.jpg', '862.jpg', '1408.jpg', '170.jpg', '942.jpg', '534.jpg', '569.jpg', '586.jpg', '1656.jpg', '218.jpg', '1766.jpg', '114.jpg', '169.jpg', '1375.jpg', '1346.jpg', '1604.jpg', '109.jpg', '1117.jpg', '939.jpg', '750.jpg', '1723.jpg', '487.jpg', '910.jpg', '1099.jpg', '254.jpg', '608.jpg', '489.jpg', '1069.jpg', '1560.jpg', '975.jpg', '1279.jpg', '290.jpg', '1788.jpg', '1765.jpg', '1595.jpg', '1163.jpg', '528.jpg', '1426.jpg', '1051.jpg', '1754.jpg', '555.jpg', '529.jpg', '907.jpg', '1315.jpg', '281.jpg', '1403.jpg', '1372.jpg', '1442.jpg', '1073.jpg', '209.jpg', '492.jpg', '883.jpg', '308.jpg', '459.jpg', '1152.jpg', '868.jpg', '1509.jpg', '1396.jpg', '1312.jpg', '653.jpg', '1413.jpg', '841.jpg', '1454.jpg', '1458.jpg', '1399.jpg', '1411.jpg', '853.jpg', '1071.jpg', '148.jpg', '617.jpg', '1032.jpg', '1159.jpg', '176.jpg', '301.jpg', '593.jpg', '579.jpg', '399.jpg', '1127.jpg', '1114.jpg', '578.jpg', '1017.jpg', '36.jpg', '203.jpg', '1222.jpg', '62.jpg', '420.jpg', '817.jpg', '1263.jpg', '153.jpg', '861.jpg', '677.jpg', '26.jpg', '1352.jpg', '1169.jpg', '897.jpg', '615.jpg', '192.jpg', '263.jpg', '981.jpg', '900.jpg', '362.jpg', '1785.jpg', '115.jpg', '1633.jpg', '1366.jpg', '128.jpg', '999.jpg', '187.jpg', '896.jpg', '734.jpg', '1160.jpg', '995.jpg', '272.jpg', '792.jpg', '453.jpg', '604.jpg', '488.jpg', '160.jpg', '1689.jpg', '1706.jpg', '366.jpg', '759.jpg', '744.jpg', '55.jpg', '336.jpg', '941.jpg', '1573.jpg', '1697.jpg', '1095.jpg', '1320.jpg', '1062.jpg', '96.jpg', '684.jpg', '1650.jpg', '1456.jpg', '779.jpg', '876.jpg', '1753.jpg', '434.jpg', '1267.jpg', '905.jpg', '1213.jpg', '1440.jpg', '1541.jpg', '616.jpg', '1495.jpg', '108.jpg', '391.jpg', '112.jpg', '517.jpg', '735.jpg', '1647.jpg', '1420.jpg', '174.jpg', '1311.jpg', '361.jpg', '87.jpg', '544.jpg', '28.jpg', '997.jpg', '1705.jpg', '328.jpg', '1461.jpg', '235.jpg', '567.jpg', '124.jpg', '334.jpg', '1197.jpg', '1107.jpg', '1520.jpg', '35.jpg', '625.jpg', '1247.jpg', '312.jpg', '1524.jpg', '1498.jpg', '986.jpg', '609.jpg', '1487.jpg', '1651.jpg', '509.jpg', '1047.jpg', '1586.jpg', '651.jpg', '503.jpg', '418.jpg', '898.jpg', '1472.jpg', '1627.jpg', '1232.jpg', '228.jpg', '53.jpg', '1522.jpg', '135.jpg', '1374.jpg', '6.jpg', '606.jpg', '1591.jpg', '1444.jpg', '1613.jpg', '1523.jpg', '1306.jpg', '1550.jpg', '1555.jpg', '685.jpg', '274.jpg', '163.jpg', '146.jpg', '707.jpg', '1123.jpg', '1681.jpg', '1584.jpg', '777.jpg', '1145.jpg', '585.jpg', '581.jpg', '1786.jpg', '460.jpg', '60.jpg', '50.jpg', '346.jpg', '991.jpg', '1313.jpg', '1750.jpg', '1022.jpg', '1570.jpg', '448.jpg', '1209.jpg', '261.jpg', '551.jpg', '269.jpg', '1063.jpg', '42.jpg', '408.jpg', '442.jpg', '1272.jpg', '194.jpg', '832.jpg', '1326.jpg', '849.jpg', '902.jpg', '1103.jpg', '1172.jpg', '1338.jpg', '1387.jpg', '445.jpg', '829.jpg', '1201.jpg', '831.jpg', '511.jpg', '294.jpg', '839.jpg', '1021.jpg', '859.jpg', '1574.jpg', '359.jpg', '669.jpg', '742.jpg', '315.jpg', '881.jpg', '1776.jpg', '796.jpg', '134.jpg', '652.jpg', '455.jpg', '1631.jpg', '1119.jpg', '319.jpg', '1617.jpg', '935.jpg', '246.jpg', '393.jpg', '297.jpg', '1332.jpg', '1625.jpg', '963.jpg', '506.jpg', '922.jpg', '930.jpg', '1084.jpg', '723.jpg', '331.jpg']\n"
          ]
        }
      ]
    },
    {
      "cell_type": "code",
      "source": [
        "def getImageTensor(path):\n",
        "    image = np.asarray(Image.open(path).convert('RGB'))\n",
        "    image_tensor = torch.tensor(image)\n",
        "    return image_tensor"
      ],
      "metadata": {
        "id": "8Goo2WA8971B"
      },
      "execution_count": null,
      "outputs": []
    },
    {
      "cell_type": "code",
      "source": [
        "getImageTensor(path + '/data/train/benign/30.jpg')"
      ],
      "metadata": {
        "colab": {
          "base_uri": "https://localhost:8080/"
        },
        "collapsed": true,
        "id": "m8PyxFeY-LCJ",
        "outputId": "cb29cefc-2e68-4ad4-b01f-0e53e1bb2ad2"
      },
      "execution_count": null,
      "outputs": [
        {
          "output_type": "execute_result",
          "data": {
            "text/plain": [
              "tensor([[[ 4,  2,  3],\n",
              "         [ 2,  2,  2],\n",
              "         [ 5,  5,  7],\n",
              "         ...,\n",
              "         [29, 21, 19],\n",
              "         [30, 18, 18],\n",
              "         [30, 19, 17]],\n",
              "\n",
              "        [[ 4,  2,  5],\n",
              "         [ 3,  3,  3],\n",
              "         [ 6,  6,  6],\n",
              "         ...,\n",
              "         [29, 19, 18],\n",
              "         [29, 19, 18],\n",
              "         [30, 19, 17]],\n",
              "\n",
              "        [[ 5,  0,  4],\n",
              "         [ 3,  5,  4],\n",
              "         [11,  9, 12],\n",
              "         ...,\n",
              "         [29, 19, 17],\n",
              "         [29, 19, 17],\n",
              "         [30, 19, 17]],\n",
              "\n",
              "        ...,\n",
              "\n",
              "        [[35, 23, 25],\n",
              "         [34, 22, 24],\n",
              "         [33, 21, 25],\n",
              "         ...,\n",
              "         [ 6,  2,  3],\n",
              "         [ 4,  0,  1],\n",
              "         [ 2,  0,  1]],\n",
              "\n",
              "        [[35, 25, 26],\n",
              "         [35, 23, 25],\n",
              "         [34, 22, 24],\n",
              "         ...,\n",
              "         [ 3,  2,  0],\n",
              "         [ 4,  0,  1],\n",
              "         [ 3,  2,  0]],\n",
              "\n",
              "        [[34, 24, 23],\n",
              "         [35, 23, 23],\n",
              "         [34, 24, 23],\n",
              "         ...,\n",
              "         [ 5,  0,  4],\n",
              "         [ 3,  1,  4],\n",
              "         [ 3,  1,  2]]], dtype=torch.uint8)"
            ]
          },
          "metadata": {},
          "execution_count": 5
        }
      ]
    },
    {
      "cell_type": "code",
      "source": [
        "benign_train = []\n",
        "benign_test = []\n",
        "malignant_train = []\n",
        "malignant_test = []\n",
        "\n",
        "for file in os.listdir(path + '/data/train/benign'):\n",
        "    benign_train.append(getImageTensor(path + '/data/train/benign/' + file))\n",
        "\n",
        "for file in os.listdir(path + '/data/train/malignant'):\n",
        "    malignant_train.append(getImageTensor(path + '/data/train/malignant/' + file))\n",
        "\n",
        "for file in os.listdir(path + '/data/test/benign'):\n",
        "    benign_test.append(getImageTensor(path + '/data/test/benign/' + file))\n",
        "\n",
        "for file in os.listdir(path + '/data/test/malignant'):\n",
        "    malignant_test.append(getImageTensor(path + '/data/test/malignant/' + file))\n"
      ],
      "metadata": {
        "id": "RYZ1wDM0CyEd"
      },
      "execution_count": null,
      "outputs": []
    },
    {
      "cell_type": "code",
      "source": [
        "benign_test = torch.stack(benign_test)\n",
        "benign_train = torch.stack(benign_train)\n",
        "malignant_test = torch.stack(malignant_test)\n",
        "malignant_train = torch.stack(malignant_train)"
      ],
      "metadata": {
        "id": "Af6EnwlvDuCv"
      },
      "execution_count": null,
      "outputs": []
    },
    {
      "cell_type": "code",
      "source": [
        "benign_test.shape, benign_train.shape, malignant_test.shape, malignant_train.shape"
      ],
      "metadata": {
        "colab": {
          "base_uri": "https://localhost:8080/"
        },
        "id": "qpFOOWdqD68w",
        "outputId": "03c7a087-52bc-4e33-9170-aec43a15bc67"
      },
      "execution_count": null,
      "outputs": [
        {
          "output_type": "execute_result",
          "data": {
            "text/plain": [
              "(torch.Size([360, 224, 224, 3]),\n",
              " torch.Size([1440, 224, 224, 3]),\n",
              " torch.Size([300, 224, 224, 3]),\n",
              " torch.Size([1197, 224, 224, 3]))"
            ]
          },
          "metadata": {},
          "execution_count": 8
        }
      ]
    },
    {
      "cell_type": "code",
      "source": [
        "y_benign_test = np.zeros(len(benign_test))\n",
        "y_benign_train = np.zeros(len(benign_train))\n",
        "y_malignant_test = np.ones(len(malignant_test))\n",
        "y_malignant_train = np.ones(len(malignant_train))"
      ],
      "metadata": {
        "id": "eSrH3lRvEG37"
      },
      "execution_count": null,
      "outputs": []
    },
    {
      "cell_type": "code",
      "source": [
        "X_train = torch.cat((benign_train, malignant_train))\n",
        "X_test = torch.cat((benign_test, malignant_test))\n",
        "\n",
        "y_train = torch.tensor(np.concatenate((y_benign_train, y_malignant_train)))\n",
        "y_test = torch.tensor(np.concatenate((y_benign_test, y_malignant_test)))"
      ],
      "metadata": {
        "id": "9gS4Sgf6RngM"
      },
      "execution_count": 44,
      "outputs": []
    },
    {
      "cell_type": "code",
      "source": [
        "X_train.shape, X_test.shape, y_train.shape, y_test.shape"
      ],
      "metadata": {
        "colab": {
          "base_uri": "https://localhost:8080/"
        },
        "id": "SiS6om2mR4lE",
        "outputId": "c2a75442-b99c-4635-b6c5-c3a475f9a652"
      },
      "execution_count": null,
      "outputs": [
        {
          "output_type": "execute_result",
          "data": {
            "text/plain": [
              "(torch.Size([2637, 224, 224, 3]),\n",
              " torch.Size([660, 224, 224, 3]),\n",
              " torch.Size([2637]),\n",
              " torch.Size([660]))"
            ]
          },
          "metadata": {},
          "execution_count": 11
        }
      ]
    },
    {
      "cell_type": "code",
      "source": [],
      "metadata": {
        "id": "KHA2BlZPVrIK"
      },
      "execution_count": null,
      "outputs": []
    },
    {
      "cell_type": "code",
      "source": [
        "X_train = X_train.transpose(1, 3)\n",
        "X_test = X_test.transpose(1, 3)"
      ],
      "metadata": {
        "collapsed": true,
        "id": "exjyA9BIS_Xz"
      },
      "execution_count": 45,
      "outputs": []
    },
    {
      "cell_type": "code",
      "source": [
        "from torch.utils.data import dataloader\n",
        "import matplotlib.pyplot as plt"
      ],
      "metadata": {
        "id": "BRD2gaXK4Qbu"
      },
      "execution_count": null,
      "outputs": []
    },
    {
      "cell_type": "code",
      "source": [
        "class SkinCancerClassifierV1(nn.Module):\n",
        "  def __init__(self):\n",
        "    super().__init__()\n",
        "\n",
        "    self.layer_stack = nn.Sequential(\n",
        "      nn.Conv2d(3, 1, 3, stride = 2),\n",
        "      nn.MaxPool2d(2,2),\n",
        "      nn.Flatten(),\n",
        "      nn.Linear(3025, 10),\n",
        "      nn.Linear(10, 1)\n",
        "      )\n",
        "\n",
        "  def forward(self, x):\n",
        "    return self.layer_stack(x)\n",
        "\n"
      ],
      "metadata": {
        "id": "2vmY-eL-FiZ6"
      },
      "execution_count": null,
      "outputs": []
    },
    {
      "cell_type": "code",
      "source": [
        "my_model = SkinCancerClassifierV1()\n",
        "my_model.state_dict()"
      ],
      "metadata": {
        "colab": {
          "base_uri": "https://localhost:8080/"
        },
        "collapsed": true,
        "id": "hPhw9ZSSJIzZ",
        "outputId": "4e5d09d9-d8fc-4a7d-8ff3-9bb2452f50ad"
      },
      "execution_count": null,
      "outputs": [
        {
          "output_type": "execute_result",
          "data": {
            "text/plain": [
              "OrderedDict([('layer_stack.0.weight',\n",
              "              tensor([[[[ 0.0013, -0.0351,  0.1624],\n",
              "                        [-0.0165, -0.1154,  0.0873],\n",
              "                        [-0.1870, -0.1531, -0.1541]],\n",
              "              \n",
              "                       [[ 0.1855,  0.1681,  0.1232],\n",
              "                        [-0.0077, -0.0415,  0.1009],\n",
              "                        [ 0.1343, -0.0319,  0.1514]],\n",
              "              \n",
              "                       [[-0.0356,  0.1141, -0.1280],\n",
              "                        [-0.1539, -0.1028,  0.0022],\n",
              "                        [ 0.0342,  0.0281, -0.0527]]]])),\n",
              "             ('layer_stack.0.bias', tensor([0.0997])),\n",
              "             ('layer_stack.3.weight',\n",
              "              tensor([[-0.0065, -0.0095,  0.0095,  ...,  0.0112, -0.0144, -0.0037],\n",
              "                      [-0.0021,  0.0100, -0.0040,  ..., -0.0174,  0.0071, -0.0150],\n",
              "                      [-0.0008,  0.0125,  0.0032,  ...,  0.0019, -0.0021,  0.0008],\n",
              "                      ...,\n",
              "                      [ 0.0093, -0.0049,  0.0040,  ..., -0.0170, -0.0061, -0.0152],\n",
              "                      [-0.0176, -0.0169,  0.0080,  ...,  0.0046, -0.0058, -0.0123],\n",
              "                      [-0.0043, -0.0102,  0.0173,  ...,  0.0087, -0.0163,  0.0133]])),\n",
              "             ('layer_stack.3.bias',\n",
              "              tensor([-0.0148, -0.0109,  0.0153,  0.0103,  0.0078,  0.0097, -0.0156,  0.0111,\n",
              "                      -0.0150, -0.0092])),\n",
              "             ('layer_stack.4.weight',\n",
              "              tensor([[-0.1237,  0.1709,  0.2050,  0.1340,  0.0391,  0.0433,  0.1798,  0.2247,\n",
              "                       -0.1567, -0.2507]])),\n",
              "             ('layer_stack.4.bias', tensor([-0.1712]))])"
            ]
          },
          "metadata": {},
          "execution_count": 15
        }
      ]
    },
    {
      "cell_type": "code",
      "source": [
        "optimizer = torch.optim.Adam(my_model.parameters(), lr = 0.005)\n",
        "loss_fn = nn.BCEWithLogitsLoss()"
      ],
      "metadata": {
        "id": "MUDZc2rZJiYN"
      },
      "execution_count": null,
      "outputs": []
    },
    {
      "cell_type": "code",
      "source": [
        "def accuracy(y_true, y_pred):\n",
        "  correct = torch.eq(y_true, y_pred).sum().item()\n",
        "  acc = (correct / len(y_pred)) * 100\n",
        "  return acc"
      ],
      "metadata": {
        "id": "HFbJMTkxKnpG"
      },
      "execution_count": 30,
      "outputs": []
    },
    {
      "cell_type": "code",
      "source": [
        "train_acc_list = []\n",
        "test_acc_list = []\n",
        "\n",
        "epochs = 20\n",
        "\n",
        "for epoch in range(epochs):\n",
        "\n",
        "  my_model.train()\n",
        "\n",
        "  y_logits = my_model(X_train.float()).squeeze()\n",
        "  y_pred = torch.round(torch.sigmoid(y_logits))\n",
        "\n",
        "  loss = loss_fn(y_logits, y_train.float())\n",
        "  acc = accuracy(y_train, y_pred)\n",
        "\n",
        "  optimizer.zero_grad()\n",
        "  loss.backward()\n",
        "  optimizer.step()\n",
        "\n",
        "\n",
        "  my_model.eval()\n",
        "  with torch.inference_mode():\n",
        "    test_logits = my_model(X_test.float()).squeeze()\n",
        "    test_pred = torch.round(torch.sigmoid(test_logits))\n",
        "    test_loss = loss_fn(test_logits, y_test.float())\n",
        "    test_acc = accuracy(y_test, test_pred)\n",
        "\n",
        "  if epoch % 1 == 0:\n",
        "    print(f\"Epoch: {epoch} | Loss: {loss:.5f} | Acc: {acc:.2f}% | Test Loss: {test_loss:} | Test Accuracy: {test_acc:.2f}%\")\n",
        "\n",
        "  train_acc_list.append(acc)\n",
        "  test_acc_list.append(test_acc)\n",
        "\n",
        "epoch = list(range(epochs))\n",
        "\n",
        "plt.plot(epoch, train_acc_list, label = 'Train')\n",
        "plt.plot(epoch, test_acc_list, label = 'Test')\n",
        "plt.title('Model 1: Full Batch Gradient Descent')\n",
        "plt.xlabel('Epochs')\n",
        "plt.ylabel('Accuracy')\n",
        "plt.legend()\n",
        "plt.show()\n"
      ],
      "metadata": {
        "colab": {
          "base_uri": "https://localhost:8080/",
          "height": 812
        },
        "id": "Aed7xBsNJu5p",
        "outputId": "a2640a3c-1b53-4623-cce2-ce8f3e7d09c6"
      },
      "execution_count": null,
      "outputs": [
        {
          "output_type": "stream",
          "name": "stdout",
          "text": [
            "Epoch: 0 | Loss: 0.88669 | Acc: 66.89% | Test Loss: 213.60646057128906 | Test Accuracy: 45.30%\n",
            "Epoch: 1 | Loss: 217.98633 | Acc: 45.35% | Test Loss: 28.933818817138672 | Test Accuracy: 58.48%\n",
            "Epoch: 2 | Loss: 31.83152 | Acc: 58.51% | Test Loss: 34.206031799316406 | Test Accuracy: 69.39%\n",
            "Epoch: 3 | Loss: 32.07224 | Acc: 71.03% | Test Loss: 89.5461196899414 | Test Accuracy: 71.67%\n",
            "Epoch: 4 | Loss: 79.16505 | Acc: 72.51% | Test Loss: 113.42914581298828 | Test Accuracy: 70.15%\n",
            "Epoch: 5 | Loss: 101.09724 | Acc: 69.81% | Test Loss: 80.09732818603516 | Test Accuracy: 74.85%\n",
            "Epoch: 6 | Loss: 70.61473 | Acc: 74.29% | Test Loss: 49.78620529174805 | Test Accuracy: 70.15%\n",
            "Epoch: 7 | Loss: 46.59999 | Acc: 71.56% | Test Loss: 50.9090690612793 | Test Accuracy: 64.39%\n",
            "Epoch: 8 | Loss: 56.40030 | Acc: 65.91% | Test Loss: 57.16352844238281 | Test Accuracy: 63.79%\n",
            "Epoch: 9 | Loss: 63.81982 | Acc: 63.44% | Test Loss: 44.221317291259766 | Test Accuracy: 62.88%\n",
            "Epoch: 10 | Loss: 49.43269 | Acc: 64.20% | Test Loss: 27.717004776000977 | Test Accuracy: 64.85%\n",
            "Epoch: 11 | Loss: 30.35257 | Acc: 65.91% | Test Loss: 17.675777435302734 | Test Accuracy: 68.64%\n",
            "Epoch: 12 | Loss: 18.12679 | Acc: 68.94% | Test Loss: 11.847825050354004 | Test Accuracy: 68.03%\n",
            "Epoch: 13 | Loss: 11.79211 | Acc: 69.13% | Test Loss: 11.299511909484863 | Test Accuracy: 62.73%\n",
            "Epoch: 14 | Loss: 11.63024 | Acc: 63.97% | Test Loss: 22.34883689880371 | Test Accuracy: 55.91%\n",
            "Epoch: 15 | Loss: 22.01744 | Acc: 55.82% | Test Loss: 22.57964324951172 | Test Accuracy: 55.45%\n",
            "Epoch: 16 | Loss: 22.13461 | Acc: 55.52% | Test Loss: 6.867378234863281 | Test Accuracy: 65.76%\n",
            "Epoch: 17 | Loss: 7.17170 | Acc: 66.74% | Test Loss: 13.049467086791992 | Test Accuracy: 70.00%\n",
            "Epoch: 18 | Loss: 11.92571 | Acc: 70.80% | Test Loss: 21.22966957092285 | Test Accuracy: 65.30%\n",
            "Epoch: 19 | Loss: 19.67070 | Acc: 64.69% | Test Loss: 18.507421493530273 | Test Accuracy: 63.94%\n"
          ]
        },
        {
          "output_type": "display_data",
          "data": {
            "text/plain": [
              "<Figure size 640x480 with 1 Axes>"
            ],
            "image/png": "[encoded data removed]"
          },
          "metadata": {}
        }
      ]
    },
    {
      "cell_type": "markdown",
      "source": [
        "## Model 2: Mini-Batch Gradient Descent"
      ],
      "metadata": {
        "id": "UcDOPDJR391n"
      }
    },
    {
      "cell_type": "code",
      "source": [
        "train = torch.utils.data.TensorDataset(X_train, y_train)\n",
        "test = torch.utils.data.TensorDataset(X_test, y_test)"
      ],
      "metadata": {
        "id": "bWNSglNw5DVt"
      },
      "execution_count": 46,
      "outputs": []
    },
    {
      "cell_type": "code",
      "source": [
        "train_dataloader = dataloader.DataLoader(train, batch_size = 32, shuffle = True)\n",
        "test_dataloader = dataloader.DataLoader(test, batch_size = 32, shuffle = True)"
      ],
      "metadata": {
        "id": "RIFJCbIB4VbJ"
      },
      "execution_count": 47,
      "outputs": []
    },
    {
      "cell_type": "code",
      "source": [
        "class SkinCancerClassifierV2(nn.Module):\n",
        "  def __init__(self):\n",
        "    super().__init__()\n",
        "\n",
        "    self.layer_stack = nn.Sequential(\n",
        "      nn.Conv2d(3, 4, 3, stride = 2),\n",
        "      nn.MaxPool2d(2,2),\n",
        "      nn.Conv2d(4, 4, 3, stride = 1),\n",
        "      nn.Conv2d(4, 4, 3, stride = 2),\n",
        "      nn.MaxPool2d(2,2),\n",
        "      nn.Conv2d(4,4,3,stride = 2),\n",
        "      nn.Flatten(),\n",
        "      nn.Linear(144, 8),\n",
        "      nn.Linear(8, 1)\n",
        "      )\n",
        "\n",
        "  def forward(self, x):\n",
        "    return self.layer_stack(x)\n"
      ],
      "metadata": {
        "id": "9PxBMFqLfXLc"
      },
      "execution_count": 28,
      "outputs": []
    },
    {
      "cell_type": "code",
      "source": [
        "my_model2 = SkinCancerClassifierV2()\n",
        "optimizer = torch.optim.Adam(my_model2.parameters(), lr = 0.002)\n",
        "loss_fn = nn.BCEWithLogitsLoss()\n"
      ],
      "metadata": {
        "id": "6rCswBrSf3-q"
      },
      "execution_count": null,
      "outputs": []
    },
    {
      "cell_type": "code",
      "source": [
        "\n",
        "train_acc_list = []\n",
        "test_acc_list = []\n",
        "\n",
        "epochs = 20\n",
        "\n",
        "for epoch in range(epochs):\n",
        "\n",
        "  train_loss = 0\n",
        "  train_acc = 0\n",
        "\n",
        "  for X_train, y_train in train_dataloader:\n",
        "    my_model2.train()\n",
        "\n",
        "    y_logits = my_model2(X_train.float()).squeeze()\n",
        "    y_pred = torch.round(torch.sigmoid(y_logits))\n",
        "\n",
        "    loss = loss_fn(y_logits, y_train)\n",
        "    train_loss += loss\n",
        "    acc = accuracy(y_train, y_pred)\n",
        "    train_acc += acc\n",
        "\n",
        "    optimizer.zero_grad()\n",
        "    loss.backward()\n",
        "    optimizer.step()\n",
        "\n",
        "  train_acc /= len(train_dataloader)\n",
        "  train_acc_list.append(train_acc)\n",
        "\n",
        "  ttl_test_loss = 0\n",
        "  ttl_test_acc = 0\n",
        "\n",
        "  my_model2.eval()\n",
        "  with torch.inference_mode():\n",
        "    for X_test, y_test in test_dataloader:\n",
        "\n",
        "      test_logits = my_model2(X_test.float()).squeeze()\n",
        "      test_pred = torch.round(torch.sigmoid(test_logits))\n",
        "      test_loss = loss_fn(test_logits, y_test.float())\n",
        "      ttl_test_loss += test_loss\n",
        "      test_acc = accuracy(y_test, test_pred)\n",
        "      ttl_test_acc += test_acc\n",
        "\n",
        "  ttl_test_acc /= len(test_dataloader)\n",
        "\n",
        "  test_acc_list.append(ttl_test_acc)\n",
        "\n",
        "  if epoch % 1 == 0:\n",
        "    print(f\"Epoch: {epoch} | Loss: {train_loss:.5f} | Acc: {train_acc:.2f}% | Test Loss: {ttl_test_loss:.5f} | Test Accuracy: {ttl_test_acc:.2f}%\")\n",
        "\n",
        "epoch = list(range(epochs))\n",
        "\n",
        "plt.plot(epoch, train_acc_list, label = 'Train')\n",
        "plt.plot(epoch, test_acc_list, label = 'Test')\n",
        "plt.title('Model 2: Mini Batch Gradient Descent')\n",
        "plt.xlabel('Epochs')\n",
        "plt.ylabel('Accuracy')\n",
        "plt.legend()\n",
        "plt.show()\n"
      ],
      "metadata": {
        "colab": {
          "base_uri": "https://localhost:8080/",
          "height": 367
        },
        "id": "9HdA_cb6gHRA",
        "outputId": "62494da3-87be-45a1-bb53-e9c192280de7"
      },
      "execution_count": 42,
      "outputs": [
        {
          "output_type": "stream",
          "name": "stdout",
          "text": [
            "Epoch: 0 | Loss: 27.09574 | Acc: 85.81% | Test Loss: 9.56946 | Test Accuracy: 79.64%\n"
          ]
        },
        {
          "output_type": "error",
          "ename": "KeyboardInterrupt",
          "evalue": "",
          "traceback": [
            "\u001b[0;31m---------------------------------------------------------------------------\u001b[0m",
            "\u001b[0;31mKeyboardInterrupt\u001b[0m                         Traceback (most recent call last)",
            "\u001b[0;32m<ipython-input-42-e9ff3d0655c3>\u001b[0m in \u001b[0;36m<cell line: 0>\u001b[0;34m()\u001b[0m\n\u001b[1;32m     21\u001b[0m \u001b[0;34m\u001b[0m\u001b[0m\n\u001b[1;32m     22\u001b[0m     \u001b[0moptimizer\u001b[0m\u001b[0;34m.\u001b[0m\u001b[0mzero_grad\u001b[0m\u001b[0;34m(\u001b[0m\u001b[0;34m)\u001b[0m\u001b[0;34m\u001b[0m\u001b[0;34m\u001b[0m\u001b[0m\n\u001b[0;32m---> 23\u001b[0;31m     \u001b[0mloss\u001b[0m\u001b[0;34m.\u001b[0m\u001b[0mbackward\u001b[0m\u001b[0;34m(\u001b[0m\u001b[0;34m)\u001b[0m\u001b[0;34m\u001b[0m\u001b[0;34m\u001b[0m\u001b[0m\n\u001b[0m\u001b[1;32m     24\u001b[0m     \u001b[0moptimizer\u001b[0m\u001b[0;34m.\u001b[0m\u001b[0mstep\u001b[0m\u001b[0;34m(\u001b[0m\u001b[0;34m)\u001b[0m\u001b[0;34m\u001b[0m\u001b[0;34m\u001b[0m\u001b[0m\n\u001b[1;32m     25\u001b[0m \u001b[0;34m\u001b[0m\u001b[0m\n",
            "\u001b[0;32m/usr/local/lib/python3.11/dist-packages/torch/_tensor.py\u001b[0m in \u001b[0;36mbackward\u001b[0;34m(self, gradient, retain_graph, create_graph, inputs)\u001b[0m\n\u001b[1;32m    579\u001b[0m                 \u001b[0minputs\u001b[0m\u001b[0;34m=\u001b[0m\u001b[0minputs\u001b[0m\u001b[0;34m,\u001b[0m\u001b[0;34m\u001b[0m\u001b[0;34m\u001b[0m\u001b[0m\n\u001b[1;32m    580\u001b[0m             )\n\u001b[0;32m--> 581\u001b[0;31m         torch.autograd.backward(\n\u001b[0m\u001b[1;32m    582\u001b[0m             \u001b[0mself\u001b[0m\u001b[0;34m,\u001b[0m \u001b[0mgradient\u001b[0m\u001b[0;34m,\u001b[0m \u001b[0mretain_graph\u001b[0m\u001b[0;34m,\u001b[0m \u001b[0mcreate_graph\u001b[0m\u001b[0;34m,\u001b[0m \u001b[0minputs\u001b[0m\u001b[0;34m=\u001b[0m\u001b[0minputs\u001b[0m\u001b[0;34m\u001b[0m\u001b[0;34m\u001b[0m\u001b[0m\n\u001b[1;32m    583\u001b[0m         )\n",
            "\u001b[0;32m/usr/local/lib/python3.11/dist-packages/torch/autograd/__init__.py\u001b[0m in \u001b[0;36mbackward\u001b[0;34m(tensors, grad_tensors, retain_graph, create_graph, grad_variables, inputs)\u001b[0m\n\u001b[1;32m    345\u001b[0m     \u001b[0;31m# some Python versions print out the first line of a multi-line function\u001b[0m\u001b[0;34m\u001b[0m\u001b[0;34m\u001b[0m\u001b[0m\n\u001b[1;32m    346\u001b[0m     \u001b[0;31m# calls in the traceback and some print out the last line\u001b[0m\u001b[0;34m\u001b[0m\u001b[0;34m\u001b[0m\u001b[0m\n\u001b[0;32m--> 347\u001b[0;31m     _engine_run_backward(\n\u001b[0m\u001b[1;32m    348\u001b[0m         \u001b[0mtensors\u001b[0m\u001b[0;34m,\u001b[0m\u001b[0;34m\u001b[0m\u001b[0;34m\u001b[0m\u001b[0m\n\u001b[1;32m    349\u001b[0m         \u001b[0mgrad_tensors_\u001b[0m\u001b[0;34m,\u001b[0m\u001b[0;34m\u001b[0m\u001b[0;34m\u001b[0m\u001b[0m\n",
            "\u001b[0;32m/usr/local/lib/python3.11/dist-packages/torch/autograd/graph.py\u001b[0m in \u001b[0;36m_engine_run_backward\u001b[0;34m(t_outputs, *args, **kwargs)\u001b[0m\n\u001b[1;32m    823\u001b[0m         \u001b[0munregister_hooks\u001b[0m \u001b[0;34m=\u001b[0m \u001b[0m_register_logging_hooks_on_whole_graph\u001b[0m\u001b[0;34m(\u001b[0m\u001b[0mt_outputs\u001b[0m\u001b[0;34m)\u001b[0m\u001b[0;34m\u001b[0m\u001b[0;34m\u001b[0m\u001b[0m\n\u001b[1;32m    824\u001b[0m     \u001b[0;32mtry\u001b[0m\u001b[0;34m:\u001b[0m\u001b[0;34m\u001b[0m\u001b[0;34m\u001b[0m\u001b[0m\n\u001b[0;32m--> 825\u001b[0;31m         return Variable._execution_engine.run_backward(  # Calls into the C++ engine to run the backward pass\n\u001b[0m\u001b[1;32m    826\u001b[0m             \u001b[0mt_outputs\u001b[0m\u001b[0;34m,\u001b[0m \u001b[0;34m*\u001b[0m\u001b[0margs\u001b[0m\u001b[0;34m,\u001b[0m \u001b[0;34m**\u001b[0m\u001b[0mkwargs\u001b[0m\u001b[0;34m\u001b[0m\u001b[0;34m\u001b[0m\u001b[0m\n\u001b[1;32m    827\u001b[0m         )  # Calls into the C++ engine to run the backward pass\n",
            "\u001b[0;31mKeyboardInterrupt\u001b[0m: "
          ]
        }
      ]
    },
    {
      "cell_type": "markdown",
      "source": [
        "## Learning Rate Analysis\n",
        "\n",
        "Now, with both models I will test different learning rates and plot them against the average test loss of the last half of the epochs. In this way, we will find the optimal learning rate for each model."
      ],
      "metadata": {
        "id": "7QLm_GVZRW88"
      }
    },
    {
      "cell_type": "code",
      "source": [
        "epochs = 10\n",
        "\n",
        "full_acc_data = []\n",
        "mini_acc_data = []\n",
        "power_data = []\n",
        "\n",
        "for i in range(2,-3,-1):\n",
        "\n",
        "  fullBatchModel = SkinCancerClassifierV1()\n",
        "  miniBatchModel = SkinCancerClassifierV2()\n",
        "\n",
        "  learn = (2**i) * 0.001\n",
        "\n",
        "  print(f\"\\n-----Learning Rate: {learn}-----\\n\")\n",
        "\n",
        "  optimizer1 = torch.optim.Adam(fullBatchModel.parameters(), lr = learn)\n",
        "  optimizer2 = torch.optim.Adam(miniBatchModel.parameters(), lr = learn)\n",
        "  loss_func = torch.nn.BCEWithLogitsLoss()\n",
        "\n",
        "  full_test_accs = 0\n",
        "  mini_test_accs = 0\n",
        "\n",
        "  for epoch in range(epochs):\n",
        "\n",
        "    ## FULL BATCH MODEL\n",
        "\n",
        "    print(\"***FULL BATCH MODEL***\")\n",
        "\n",
        "    fullBatchModel.train()\n",
        "\n",
        "    y_logits = fullBatchModel(X_train.float()).squeeze()\n",
        "    y_pred = torch.round(torch.sigmoid(y_logits))\n",
        "\n",
        "    loss = loss_fn(y_logits, y_train.float())\n",
        "    acc = accuracy(y_train, y_pred)\n",
        "\n",
        "    optimizer1.zero_grad()\n",
        "    loss.backward()\n",
        "    optimizer1.step()\n",
        "\n",
        "    ttl_test_acc = 0\n",
        "    ttl_test_loss = 0\n",
        "\n",
        "    fullBatchModel.eval()\n",
        "    with torch.inference_mode():\n",
        "      test_logits = fullBatchModel(X_test.float()).squeeze()\n",
        "      test_pred = torch.round(torch.sigmoid(test_logits))\n",
        "      test_loss = loss_fn(test_logits, y_test.float())\n",
        "      test_acc = accuracy(y_test, test_pred)\n",
        "\n",
        "    if epoch % 1 == 0:\n",
        "      print(f\"Epoch: {epoch} | Loss: {loss:.5f} | Acc: {acc:.2f}% | Test Loss: {test_loss:} | Test Accuracy: {test_acc:.2f}%\")\n",
        "\n",
        "    if epoch >= epochs / 2:\n",
        "      full_test_accs += test_acc\n",
        "\n",
        "    ## MINI BATCH MODEL\n",
        "\n",
        "    print(\"***MINI BATCH MODEL***\")\n",
        "\n",
        "    mini_train_loss = 0\n",
        "    mini_train_acc = 0\n",
        "\n",
        "    for mini_X_train, mini_y_train in train_dataloader:\n",
        "      miniBatchModel.train()\n",
        "\n",
        "      mini_y_logits = miniBatchModel(mini_X_train.float()).squeeze()\n",
        "      mini_y_pred = torch.round(torch.sigmoid(mini_y_logits))\n",
        "\n",
        "      mini_loss = loss_fn(mini_y_logits, mini_y_train)\n",
        "      mini_train_loss += mini_loss\n",
        "      mini_acc = accuracy(mini_y_train, mini_y_pred)\n",
        "      mini_train_acc += mini_acc\n",
        "\n",
        "      optimizer2.zero_grad()\n",
        "      mini_loss.backward()\n",
        "      optimizer2.step()\n",
        "\n",
        "    mini_train_acc /= len(train_dataloader)\n",
        "    train_acc_list.append(mini_train_acc)\n",
        "\n",
        "    mini_ttl_test_loss = 0\n",
        "    mini_ttl_test_acc = 0\n",
        "\n",
        "    miniBatchModel.eval()\n",
        "    with torch.inference_mode():\n",
        "      for mini_X_test, mini_y_test in test_dataloader:\n",
        "\n",
        "        mini_test_logits = miniBatchModel(mini_X_test.float()).squeeze()\n",
        "        mini_test_pred = torch.round(torch.sigmoid(mini_test_logits))\n",
        "        mini_test_loss = loss_fn(mini_test_logits, mini_y_test.float())\n",
        "        mini_ttl_test_loss += mini_test_loss\n",
        "        mini_test_acc = accuracy(mini_y_test, mini_test_pred)\n",
        "        mini_ttl_test_acc += mini_test_acc\n",
        "\n",
        "    mini_ttl_test_acc /= len(test_dataloader)\n",
        "\n",
        "    if epoch % 1 == 0:\n",
        "      print(f\"Epoch: {epoch} | Loss: {mini_train_loss:.5f} | Acc: {mini_train_acc:.2f}% | Test Loss: {mini_ttl_test_loss:.5f} | Test Accuracy: {mini_ttl_test_acc:.2f}%\")\n",
        "\n",
        "\n",
        "    if epoch >= epochs / 2:\n",
        "      mini_test_accs += mini_ttl_test_acc\n",
        "\n",
        "  full_acc_data.append(full_test_accs / (epochs / 2))\n",
        "  mini_acc_data.append(mini_test_accs / (epochs / 2))\n",
        "  power_data.append(i)\n",
        "\n",
        "plt.plot(power_data, full_acc_data, label = 'Full Batch')\n",
        "plt.plot(power_data, mini_acc_data, label = 'Mini Batch')\n",
        "plt.title('Learning Rate Analysis')\n",
        "plt.xlabel('Power (2^x * 0.001)')\n",
        "plt.ylabel('Test Accuracy')\n",
        "plt.legend()\n",
        "plt.show()\n",
        "\n"
      ],
      "metadata": {
        "colab": {
          "base_uri": "https://localhost:8080/",
          "height": 1000
        },
        "collapsed": true,
        "id": "8a-Ps1swRxPG",
        "outputId": "781d283e-4db0-4ccc-fd01-13feab1e0c5e"
      },
      "execution_count": 55,
      "outputs": [
        {
          "output_type": "stream",
          "name": "stdout",
          "text": [
            "\n",
            "-----Learning Rate: 0.004-----\n",
            "\n",
            "***FULL BATCH MODEL***\n",
            "Epoch: 0 | Loss: 1.25687 | Acc: 55.14% | Test Loss: 54.480770111083984 | Test Accuracy: 27.88%\n",
            "***MINI BATCH MODEL***\n",
            "Epoch: 0 | Loss: 56.05500 | Acc: 62.97% | Test Loss: 11.93610 | Test Accuracy: 66.79%\n",
            "***FULL BATCH MODEL***\n",
            "Epoch: 1 | Loss: 54.22427 | Acc: 27.08% | Test Loss: 64.41909790039062 | Test Accuracy: 36.36%\n",
            "***MINI BATCH MODEL***\n",
            "Epoch: 1 | Loss: 40.95491 | Acc: 76.40% | Test Loss: 12.21896 | Test Accuracy: 77.50%\n",
            "***FULL BATCH MODEL***\n",
            "Epoch: 2 | Loss: 62.06572 | Acc: 36.59% | Test Loss: 63.578765869140625 | Test Accuracy: 42.12%\n",
            "***MINI BATCH MODEL***\n",
            "Epoch: 2 | Loss: 41.65721 | Acc: 76.07% | Test Loss: 10.81570 | Test Accuracy: 73.24%\n",
            "***FULL BATCH MODEL***\n",
            "Epoch: 3 | Loss: 66.41756 | Acc: 43.04% | Test Loss: 27.831043243408203 | Test Accuracy: 26.67%\n",
            "***MINI BATCH MODEL***\n",
            "Epoch: 3 | Loss: 38.67055 | Acc: 78.37% | Test Loss: 9.57404 | Test Accuracy: 79.32%\n",
            "***FULL BATCH MODEL***\n",
            "Epoch: 4 | Loss: 27.51916 | Acc: 25.41% | Test Loss: 11.393346786499023 | Test Accuracy: 48.33%\n",
            "***MINI BATCH MODEL***\n",
            "Epoch: 4 | Loss: 32.44295 | Acc: 81.84% | Test Loss: 8.58732 | Test Accuracy: 81.73%\n",
            "***FULL BATCH MODEL***\n",
            "Epoch: 5 | Loss: 10.95314 | Acc: 47.82% | Test Loss: 15.75318431854248 | Test Accuracy: 48.79%\n",
            "***MINI BATCH MODEL***\n",
            "Epoch: 5 | Loss: 32.99222 | Acc: 82.42% | Test Loss: 10.59885 | Test Accuracy: 77.83%\n",
            "***FULL BATCH MODEL***\n",
            "Epoch: 6 | Loss: 14.91352 | Acc: 47.52% | Test Loss: 29.782262802124023 | Test Accuracy: 48.18%\n",
            "***MINI BATCH MODEL***\n",
            "Epoch: 6 | Loss: 32.71667 | Acc: 82.21% | Test Loss: 8.95745 | Test Accuracy: 80.51%\n",
            "***FULL BATCH MODEL***\n",
            "Epoch: 7 | Loss: 28.29279 | Acc: 46.95% | Test Loss: 15.934629440307617 | Test Accuracy: 63.18%\n",
            "***MINI BATCH MODEL***\n",
            "Epoch: 7 | Loss: 32.08996 | Acc: 82.89% | Test Loss: 9.05087 | Test Accuracy: 78.36%\n",
            "***FULL BATCH MODEL***\n",
            "Epoch: 8 | Loss: 14.38909 | Acc: 63.18% | Test Loss: 5.483658313751221 | Test Accuracy: 64.70%\n",
            "***MINI BATCH MODEL***\n",
            "Epoch: 8 | Loss: 30.03395 | Acc: 84.14% | Test Loss: 11.08895 | Test Accuracy: 74.11%\n",
            "***FULL BATCH MODEL***\n",
            "Epoch: 9 | Loss: 5.69803 | Acc: 67.35% | Test Loss: 18.33885955810547 | Test Accuracy: 55.00%\n",
            "***MINI BATCH MODEL***\n",
            "Epoch: 9 | Loss: 31.12476 | Acc: 82.84% | Test Loss: 9.09520 | Test Accuracy: 79.67%\n",
            "\n",
            "-----Learning Rate: 0.002-----\n",
            "\n",
            "***FULL BATCH MODEL***\n",
            "Epoch: 0 | Loss: 5.92575 | Acc: 54.76% | Test Loss: 1141.4647216796875 | Test Accuracy: 45.45%\n",
            "***MINI BATCH MODEL***\n",
            "Epoch: 0 | Loss: 73.35238 | Acc: 53.99% | Test Loss: 14.00061 | Test Accuracy: 59.46%\n",
            "***FULL BATCH MODEL***\n",
            "Epoch: 1 | Loss: 1143.10254 | Acc: 45.39% | Test Loss: 548.3348388671875 | Test Accuracy: 45.45%\n",
            "***MINI BATCH MODEL***\n",
            "Epoch: 1 | Loss: 50.49262 | Acc: 66.97% | Test Loss: 11.05927 | Test Accuracy: 69.55%\n",
            "***FULL BATCH MODEL***\n",
            "Epoch: 2 | Loss: 549.16052 | Acc: 45.39% | Test Loss: 173.88943481445312 | Test Accuracy: 54.55%\n",
            "***MINI BATCH MODEL***\n",
            "Epoch: 2 | Loss: 42.87539 | Acc: 73.83% | Test Loss: 9.80078 | Test Accuracy: 78.12%\n",
            "***FULL BATCH MODEL***\n",
            "Epoch: 3 | Loss: 174.62715 | Acc: 54.61% | Test Loss: 373.0110168457031 | Test Accuracy: 54.55%\n",
            "***MINI BATCH MODEL***\n",
            "Epoch: 3 | Loss: 42.15161 | Acc: 73.80% | Test Loss: 10.58145 | Test Accuracy: 77.08%\n",
            "***FULL BATCH MODEL***\n",
            "Epoch: 4 | Loss: 374.09457 | Acc: 54.61% | Test Loss: 351.82647705078125 | Test Accuracy: 54.55%\n",
            "***MINI BATCH MODEL***\n",
            "Epoch: 4 | Loss: 40.83941 | Acc: 75.70% | Test Loss: 9.40920 | Test Accuracy: 78.60%\n",
            "***FULL BATCH MODEL***\n",
            "Epoch: 5 | Loss: 352.83554 | Acc: 54.61% | Test Loss: 202.52464294433594 | Test Accuracy: 54.55%\n",
            "***MINI BATCH MODEL***\n",
            "Epoch: 5 | Loss: 40.75224 | Acc: 76.13% | Test Loss: 8.94243 | Test Accuracy: 82.38%\n",
            "***FULL BATCH MODEL***\n",
            "Epoch: 6 | Loss: 203.17691 | Acc: 54.61% | Test Loss: 24.70953941345215 | Test Accuracy: 45.15%\n",
            "***MINI BATCH MODEL***\n",
            "Epoch: 6 | Loss: 36.52437 | Acc: 80.22% | Test Loss: 9.73583 | Test Accuracy: 79.85%\n",
            "***FULL BATCH MODEL***\n",
            "Epoch: 7 | Loss: 24.77590 | Acc: 45.01% | Test Loss: 89.2918472290039 | Test Accuracy: 45.45%\n",
            "***MINI BATCH MODEL***\n",
            "Epoch: 7 | Loss: 37.41512 | Acc: 78.21% | Test Loss: 8.79736 | Test Accuracy: 77.44%\n",
            "***FULL BATCH MODEL***\n",
            "Epoch: 8 | Loss: 89.51739 | Acc: 45.39% | Test Loss: 7.210608959197998 | Test Accuracy: 45.45%\n",
            "***MINI BATCH MODEL***\n",
            "Epoch: 8 | Loss: 35.19158 | Acc: 80.59% | Test Loss: 8.13404 | Test Accuracy: 83.24%\n",
            "***FULL BATCH MODEL***\n",
            "Epoch: 9 | Loss: 7.02742 | Acc: 46.23% | Test Loss: 118.44458770751953 | Test Accuracy: 54.55%\n",
            "***MINI BATCH MODEL***\n",
            "Epoch: 9 | Loss: 35.04467 | Acc: 80.69% | Test Loss: 9.43016 | Test Accuracy: 81.73%\n",
            "\n",
            "-----Learning Rate: 0.001-----\n",
            "\n",
            "***FULL BATCH MODEL***\n",
            "Epoch: 0 | Loss: 2.61245 | Acc: 44.86% | Test Loss: 34.24342727661133 | Test Accuracy: 54.55%\n",
            "***MINI BATCH MODEL***\n",
            "Epoch: 0 | Loss: 51.55296 | Acc: 65.25% | Test Loss: 11.71926 | Test Accuracy: 74.32%\n",
            "***FULL BATCH MODEL***\n",
            "Epoch: 1 | Loss: 34.76209 | Acc: 54.61% | Test Loss: 33.30076217651367 | Test Accuracy: 54.55%\n",
            "***MINI BATCH MODEL***\n",
            "Epoch: 1 | Loss: 45.19569 | Acc: 71.86% | Test Loss: 13.12023 | Test Accuracy: 74.14%\n",
            "***FULL BATCH MODEL***\n",
            "Epoch: 2 | Loss: 33.89816 | Acc: 54.57% | Test Loss: 22.4079532623291 | Test Accuracy: 54.55%\n",
            "***MINI BATCH MODEL***\n",
            "Epoch: 2 | Loss: 41.52510 | Acc: 74.91% | Test Loss: 10.50207 | Test Accuracy: 76.76%\n",
            "***FULL BATCH MODEL***\n",
            "Epoch: 3 | Loss: 22.91669 | Acc: 54.61% | Test Loss: 10.834074020385742 | Test Accuracy: 54.85%\n",
            "***MINI BATCH MODEL***\n",
            "Epoch: 3 | Loss: 40.61523 | Acc: 75.46% | Test Loss: 10.52622 | Test Accuracy: 72.35%\n",
            "***FULL BATCH MODEL***\n",
            "Epoch: 4 | Loss: 11.15171 | Acc: 54.80% | Test Loss: 2.3836781978607178 | Test Accuracy: 56.67%\n",
            "***MINI BATCH MODEL***\n",
            "Epoch: 4 | Loss: 37.69885 | Acc: 77.92% | Test Loss: 9.57891 | Test Accuracy: 79.05%\n",
            "***FULL BATCH MODEL***\n",
            "Epoch: 5 | Loss: 2.46158 | Acc: 55.82% | Test Loss: 3.7597248554229736 | Test Accuracy: 47.27%\n",
            "***MINI BATCH MODEL***\n",
            "Epoch: 5 | Loss: 38.52323 | Acc: 77.35% | Test Loss: 9.41109 | Test Accuracy: 76.22%\n",
            "***FULL BATCH MODEL***\n",
            "Epoch: 6 | Loss: 4.15552 | Acc: 44.71% | Test Loss: 6.143499851226807 | Test Accuracy: 47.42%\n",
            "***MINI BATCH MODEL***\n",
            "Epoch: 6 | Loss: 37.89075 | Acc: 78.09% | Test Loss: 9.27192 | Test Accuracy: 76.76%\n",
            "***FULL BATCH MODEL***\n",
            "Epoch: 7 | Loss: 6.78533 | Acc: 43.88% | Test Loss: 7.45692777633667 | Test Accuracy: 47.73%\n",
            "***MINI BATCH MODEL***\n",
            "Epoch: 7 | Loss: 36.85569 | Acc: 78.43% | Test Loss: 8.96465 | Test Accuracy: 77.59%\n",
            "***FULL BATCH MODEL***\n",
            "Epoch: 8 | Loss: 7.89579 | Acc: 44.75% | Test Loss: 8.942719459533691 | Test Accuracy: 48.18%\n",
            "***MINI BATCH MODEL***\n",
            "Epoch: 8 | Loss: 35.35671 | Acc: 80.65% | Test Loss: 9.52645 | Test Accuracy: 75.30%\n",
            "***FULL BATCH MODEL***\n",
            "Epoch: 9 | Loss: 9.06832 | Acc: 48.08% | Test Loss: 10.211301803588867 | Test Accuracy: 50.45%\n",
            "***MINI BATCH MODEL***\n",
            "Epoch: 9 | Loss: 36.27395 | Acc: 78.48% | Test Loss: 9.50626 | Test Accuracy: 79.46%\n",
            "\n",
            "-----Learning Rate: 0.0005-----\n",
            "\n",
            "***FULL BATCH MODEL***\n",
            "Epoch: 0 | Loss: 1.74689 | Acc: 48.88% | Test Loss: 10.540630340576172 | Test Accuracy: 61.21%\n",
            "***MINI BATCH MODEL***\n",
            "Epoch: 0 | Loss: 49.92903 | Acc: 65.41% | Test Loss: 11.33510 | Test Accuracy: 68.18%\n",
            "***FULL BATCH MODEL***\n",
            "Epoch: 1 | Loss: 10.60196 | Acc: 63.37% | Test Loss: 9.879457473754883 | Test Accuracy: 63.18%\n",
            "***MINI BATCH MODEL***\n",
            "Epoch: 1 | Loss: 44.12020 | Acc: 72.09% | Test Loss: 11.03496 | Test Accuracy: 67.47%\n",
            "***FULL BATCH MODEL***\n",
            "Epoch: 2 | Loss: 9.90896 | Acc: 65.11% | Test Loss: 5.743907451629639 | Test Accuracy: 65.76%\n",
            "***MINI BATCH MODEL***\n",
            "Epoch: 2 | Loss: 40.71751 | Acc: 74.66% | Test Loss: 12.87675 | Test Accuracy: 65.68%\n",
            "***FULL BATCH MODEL***\n",
            "Epoch: 3 | Loss: 5.78291 | Acc: 65.98% | Test Loss: 1.250177025794983 | Test Accuracy: 58.48%\n",
            "***MINI BATCH MODEL***\n",
            "Epoch: 3 | Loss: 40.11210 | Acc: 75.45% | Test Loss: 9.78375 | Test Accuracy: 78.45%\n",
            "***FULL BATCH MODEL***\n",
            "Epoch: 4 | Loss: 1.37788 | Acc: 53.89% | Test Loss: 6.416128158569336 | Test Accuracy: 34.55%\n",
            "***MINI BATCH MODEL***\n",
            "Epoch: 4 | Loss: 39.36302 | Acc: 76.16% | Test Loss: 9.86290 | Test Accuracy: 76.79%\n",
            "***FULL BATCH MODEL***\n",
            "Epoch: 5 | Loss: 6.59503 | Acc: 33.71% | Test Loss: 1.6080479621887207 | Test Accuracy: 54.85%\n",
            "***MINI BATCH MODEL***\n",
            "Epoch: 5 | Loss: 37.71211 | Acc: 77.83% | Test Loss: 10.42795 | Test Accuracy: 78.66%\n",
            "***FULL BATCH MODEL***\n",
            "Epoch: 6 | Loss: 1.68640 | Acc: 54.08% | Test Loss: 3.147218942642212 | Test Accuracy: 67.58%\n",
            "***MINI BATCH MODEL***\n",
            "Epoch: 6 | Loss: 39.19105 | Acc: 75.87% | Test Loss: 10.31453 | Test Accuracy: 77.68%\n",
            "***FULL BATCH MODEL***\n",
            "Epoch: 7 | Loss: 3.18986 | Acc: 67.77% | Test Loss: 4.935788154602051 | Test Accuracy: 68.48%\n",
            "***MINI BATCH MODEL***\n",
            "Epoch: 7 | Loss: 37.60114 | Acc: 77.53% | Test Loss: 9.65136 | Test Accuracy: 77.71%\n",
            "***FULL BATCH MODEL***\n",
            "Epoch: 8 | Loss: 4.88304 | Acc: 67.92% | Test Loss: 5.057822227478027 | Test Accuracy: 68.03%\n",
            "***MINI BATCH MODEL***\n",
            "Epoch: 8 | Loss: 37.34282 | Acc: 78.11% | Test Loss: 9.51748 | Test Accuracy: 76.25%\n",
            "***FULL BATCH MODEL***\n",
            "Epoch: 9 | Loss: 4.99886 | Acc: 67.77% | Test Loss: 3.8613126277923584 | Test Accuracy: 66.52%\n",
            "***MINI BATCH MODEL***\n",
            "Epoch: 9 | Loss: 36.65586 | Acc: 78.54% | Test Loss: 9.35001 | Test Accuracy: 78.81%\n",
            "\n",
            "-----Learning Rate: 0.00025-----\n",
            "\n",
            "***FULL BATCH MODEL***\n",
            "Epoch: 0 | Loss: 1.20603 | Acc: 57.91% | Test Loss: 35.16618728637695 | Test Accuracy: 45.45%\n",
            "***MINI BATCH MODEL***\n",
            "Epoch: 0 | Loss: 57.30358 | Acc: 58.48% | Test Loss: 12.26455 | Test Accuracy: 63.36%\n",
            "***FULL BATCH MODEL***\n",
            "Epoch: 1 | Loss: 35.50496 | Acc: 45.39% | Test Loss: 16.932401657104492 | Test Accuracy: 45.45%\n",
            "***MINI BATCH MODEL***\n",
            "Epoch: 1 | Loss: 44.35755 | Acc: 72.60% | Test Loss: 10.79120 | Test Accuracy: 71.88%\n",
            "***FULL BATCH MODEL***\n",
            "Epoch: 2 | Loss: 17.07765 | Acc: 45.39% | Test Loss: 5.2608442306518555 | Test Accuracy: 54.85%\n",
            "***MINI BATCH MODEL***\n",
            "Epoch: 2 | Loss: 42.21778 | Acc: 73.44% | Test Loss: 10.47485 | Test Accuracy: 72.08%\n",
            "***FULL BATCH MODEL***\n",
            "Epoch: 3 | Loss: 5.49731 | Acc: 54.72% | Test Loss: 11.968952178955078 | Test Accuracy: 54.55%\n",
            "***MINI BATCH MODEL***\n",
            "Epoch: 3 | Loss: 41.04813 | Acc: 74.51% | Test Loss: 10.78883 | Test Accuracy: 76.61%\n",
            "***FULL BATCH MODEL***\n",
            "Epoch: 4 | Loss: 12.32089 | Acc: 54.61% | Test Loss: 12.569344520568848 | Test Accuracy: 54.55%\n",
            "***MINI BATCH MODEL***\n",
            "Epoch: 4 | Loss: 41.03683 | Acc: 75.40% | Test Loss: 10.21286 | Test Accuracy: 73.81%\n",
            "***FULL BATCH MODEL***\n",
            "Epoch: 5 | Loss: 12.93368 | Acc: 54.61% | Test Loss: 9.168558120727539 | Test Accuracy: 54.55%\n",
            "***MINI BATCH MODEL***\n",
            "Epoch: 5 | Loss: 39.85328 | Acc: 75.36% | Test Loss: 10.01638 | Test Accuracy: 74.85%\n",
            "***FULL BATCH MODEL***\n",
            "Epoch: 6 | Loss: 9.47390 | Acc: 54.61% | Test Loss: 3.1129586696624756 | Test Accuracy: 55.15%\n",
            "***MINI BATCH MODEL***\n",
            "Epoch: 6 | Loss: 38.77525 | Acc: 76.70% | Test Loss: 9.82866 | Test Accuracy: 74.79%\n",
            "***FULL BATCH MODEL***\n",
            "Epoch: 7 | Loss: 3.29876 | Acc: 55.02% | Test Loss: 7.006330490112305 | Test Accuracy: 45.45%\n",
            "***MINI BATCH MODEL***\n",
            "Epoch: 7 | Loss: 38.07059 | Acc: 77.34% | Test Loss: 9.87884 | Test Accuracy: 76.01%\n",
            "***FULL BATCH MODEL***\n",
            "Epoch: 8 | Loss: 7.05548 | Acc: 45.28% | Test Loss: 10.244553565979004 | Test Accuracy: 45.45%\n",
            "***MINI BATCH MODEL***\n",
            "Epoch: 8 | Loss: 37.81406 | Acc: 77.51% | Test Loss: 9.69297 | Test Accuracy: 75.74%\n",
            "***FULL BATCH MODEL***\n",
            "Epoch: 9 | Loss: 10.33177 | Acc: 45.28% | Test Loss: 7.137633323669434 | Test Accuracy: 45.45%\n",
            "***MINI BATCH MODEL***\n",
            "Epoch: 9 | Loss: 37.98868 | Acc: 77.42% | Test Loss: 9.55925 | Test Accuracy: 76.76%\n"
          ]
        },
        {
          "output_type": "display_data",
          "data": {
            "text/plain": [
              "<Figure size 640x480 with 1 Axes>"
            ],
            "image/png": "[encoded data removed]"
          },
          "metadata": {}
        }
      ]
    },
    {
      "cell_type": "markdown",
      "source": [
        "As we would expect, the mini batch model functions best with a slightly higher learning rate (in this case 0.002 was the best) since it is updating its parameters more times, so it has more chances to get to its ideal zone. The full batch model preferred a smaller learning rate of 0.0005, since it only gets so many chances to approach the correct parameters. And additionally, we see the mini batches uequivocally outperformed the full batch models."
      ],
      "metadata": {
        "id": "Z-gFWvP9Fv66"
      }
    },
    {
      "cell_type": "code",
      "source": [],
      "metadata": {
        "id": "xa-jQGl4FvS3"
      },
      "execution_count": null,
      "outputs": []
    },
    {
      "cell_type": "code",
      "source": [
        "power_data"
      ],
      "metadata": {
        "colab": {
          "base_uri": "https://localhost:8080/"
        },
        "id": "vZJ0-k7mBluB",
        "outputId": "4e117aaa-b568-4b34-f04a-93f0832db7ac"
      },
      "execution_count": 53,
      "outputs": [
        {
          "output_type": "execute_result",
          "data": {
            "text/plain": [
              "[-2]"
            ]
          },
          "metadata": {},
          "execution_count": 53
        }
      ]
    }
  ]
}